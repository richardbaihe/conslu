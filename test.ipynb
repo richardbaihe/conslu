{
 "cells": [
  {
   "cell_type": "code",
   "execution_count": 2,
   "metadata": {},
   "outputs": [
    {
     "name": "stderr",
     "output_type": "stream",
     "text": [
      "/Users/richardbai/anaconda/envs/tf36/lib/python3.6/site-packages/h5py/__init__.py:34: FutureWarning: Conversion of the second argument of issubdtype from `float` to `np.floating` is deprecated. In future, it will be treated as `np.float64 == np.dtype(float).type`.\n",
      "  from ._conv import register_converters as _register_converters\n"
     ]
    }
   ],
   "source": [
    "import torch.optim as optim\n",
    "import numpy as np\n",
    "import logger\n",
    "from data_utils import *\n",
    "from model import SDEN\n",
    "from sklearn_crfsuite import metrics\n",
    "from sklearn.metrics import f1_score\n",
    "import argparse"
   ]
  },
  {
   "cell_type": "code",
   "execution_count": 7,
   "metadata": {},
   "outputs": [],
   "source": [
    "parser = argparse.ArgumentParser()\n",
    "# DONOTCHANGE: They are reserved for nsml\n",
    "parser.add_argument('--mode', type=str, default='train')\n",
    "parser.add_argument('--pause', type=int, default=0)\n",
    "parser.add_argument('--iteration', type=str, default='0')\n",
    "parser.add_argument('--epochs', type=int, default=5,\n",
    "                    help='num_epochs')\n",
    "parser.add_argument('--batch_size', type=int, default=64,\n",
    "                    help='batch size')\n",
    "parser.add_argument('--lr', type=float, default=0.001,\n",
    "                    help='learning_rate')\n",
    "parser.add_argument('--dropout', type=float, default=0.3,\n",
    "                    help='dropout')\n",
    "parser.add_argument('--embed_size', type=int, default=100,\n",
    "                    help='embed_size')\n",
    "parser.add_argument('--hidden_size', type=int, default=64,\n",
    "                    help='hidden_size')\n",
    "parser.add_argument('--save_path', type=str, default='weight/model.pkl',\n",
    "                    help='save_path')\n",
    "parser.add_argument('--model', type=str, default='sden',\n",
    "                    help='seq2seq, memory, sden' )\n",
    "parser.add_argument('--slm',type=bool, default=True,\n",
    "                    help='whether sentence level language model training or not')\n",
    "parser.add_argument('--tensorboard',type=str, default='logs',\n",
    "                    help='path for logs')\n",
    "config = parser.parse_args(args=[])\n",
    "\n"
   ]
  },
  {
   "cell_type": "code",
   "execution_count": 8,
   "metadata": {},
   "outputs": [
    {
     "name": "stderr",
     "output_type": "stream",
     "text": [
      "100%|██████████| 43474/43474 [00:07<00:00, 5604.90it/s]\n",
      "100%|██████████| 87887/87887 [00:32<00:00, 2709.53it/s]\n",
      "100%|██████████| 4367/4367 [00:00<00:00, 4667.46it/s]\n",
      "100%|██████████| 8793/8793 [00:01<00:00, 4649.02it/s]\n"
     ]
    }
   ],
   "source": [
    "train_data, train_slm_data, word2index, slot2index, intent2index = prepare_dataset('data/train.iob',slm=config.slm)\n",
    "dev_data, dev_slm_data = prepare_dataset('data/dev.iob',(word2index,slot2index,intent2index),slm=config.slm)\n",
    "\n",
    "if config.model == 'sden':\n",
    "    model = SDEN(len(word2index),config.embed_size,config.hidden_size,\\\n",
    "                 len(slot2index),len(intent2index),word2index['<pad>'])"
   ]
  },
  {
   "cell_type": "code",
   "execution_count": 10,
   "metadata": {},
   "outputs": [],
   "source": [
    "device = torch.device('cuda' if torch.cuda.is_available() else 'cpu')\n",
    "\n",
    "model.to(device)\n",
    "model.vocab = word2index\n",
    "model.slot_vocab = slot2index\n",
    "model.intent_vocab = intent2index\n",
    "\n",
    "log = logger.Logger(config.tensorboard)\n"
   ]
  },
  {
   "cell_type": "code",
   "execution_count": 12,
   "metadata": {},
   "outputs": [],
   "source": [
    "train_data_1, train_data_2 = train_data,train_slm_data\n",
    "dev_data_1, dev_data_2 = dev_data,dev_slm_data\n",
    "\n",
    "slm_loss = nn.CrossEntropyLoss()\n",
    "slot_loss_function = nn.CrossEntropyLoss(ignore_index=0)\n",
    "intent_loss_function = nn.CrossEntropyLoss()\n",
    "optimizer = optim.Adam(model.parameters(), lr=config.lr)\n",
    "scheduler = optim.lr_scheduler.MultiStepLR(gamma=0.1, milestones=[config.epochs // 4, config.epochs // 2],\n",
    "                                           optimizer=optimizer)\n",
    "\n",
    "model.train()\n",
    "for epoch in range(config.epochs):\n",
    "    losses_slu = []\n",
    "    losses_slm = []\n",
    "    losses_all = []\n",
    "    scheduler.step()\n",
    "    for i, (batch_1,batch_2) in enumerate(zip(data_loader(train_data_1, config.batch_size, True),\n",
    "                                              data_loader(train_data_2, config.batch_size, True))):\n",
    "        h, c, slot, intent = pad_to_batch(batch_1, model.vocab, model.slot_vocab)\n",
    "        h = [hh.to(device) for hh in h]\n",
    "        c = c.to(device)\n",
    "        slot = slot.to(device)\n",
    "        intent = intent.to(device)\n",
    "\n",
    "        slm_h, slm_candi, slm_label = pad_to_batch_slm(batch_2, model.vocab)\n",
    "        slm_h = [hh.to(device) for hh in slm_h]\n",
    "        slm_candi = [hh.to(device) for hh in slm_candi]\n",
    "        slm_label = slm_label.to(device)\n",
    "\n",
    "        model.zero_grad()\n",
    "        slot_p, intent_p = model(h, c)\n",
    "        slm_p = model(slm_h,slm_candi,slm=True).view(-1,2)\n",
    "\n",
    "        loss_s = slot_loss_function(slot_p, slot.view(-1))\n",
    "        loss_i = intent_loss_function(intent_p, intent.view(-1))\n",
    "        loss_slm = slm_loss(slm_p,slm_label.view(-1))\n",
    "        loss = loss_s + loss_i + loss_slm\n",
    "        losses_slm.append(loss_slm.item())\n",
    "        losses_slu.append((loss_s + loss_i).item())\n",
    "        losses_all.append(loss.item())\n",
    "        loss.backward()\n",
    "        optimizer.step()\n",
    "\n",
    "        break\n"
   ]
  },
  {
   "cell_type": "code",
   "execution_count": null,
   "metadata": {
    "collapsed": true
   },
   "outputs": [],
   "source": []
  }
 ],
 "metadata": {
  "kernelspec": {
   "display_name": "Python 3",
   "language": "python",
   "name": "python3"
  },
  "language_info": {
   "codemirror_mode": {
    "name": "ipython",
    "version": 3
   },
   "file_extension": ".py",
   "mimetype": "text/x-python",
   "name": "python",
   "nbconvert_exporter": "python",
   "pygments_lexer": "ipython3",
   "version": "3.6.2"
  }
 },
 "nbformat": 4,
 "nbformat_minor": 2
}
